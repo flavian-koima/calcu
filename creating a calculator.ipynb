{
 "cells": [
  {
   "cell_type": "code",
   "execution_count": 2,
   "metadata": {},
   "outputs": [
    {
     "name": "stdout",
     "output_type": "stream",
     "text": [
      "Would you like to add/subtract/multiply/divide?add\n",
      "you choseadd\n",
      "what is your first number?3\n",
      "what is your second number?5\n",
      "first number:3\n",
      "second number:5\n",
      "3.0+5.0=8.0\n"
     ]
    }
   ],
   "source": [
    "#creating a calculator\n",
    "#1. ask user for calculation to be performed\n",
    "operation= input (\"Would you like to add/subtract/multiply/divide?\").lower()\n",
    "print(\"you chose{}\".format(operation))\n",
    "\n",
    "#ask for numbers\n",
    "if operation== \"subtract\"or operation==\"divide\":\n",
    "    print(\"you chose{}.\".format(operation))\n",
    "    print(\"please keep in mind that the order of your numbers matter.\")\n",
    "num1= input(\"what is your first number?\")\n",
    "num2= input(\"what is your second number?\")\n",
    "print(\"first number:{}\".format(num1))\n",
    "print(\"second number:{}\".format(num2))\n",
    "        \n",
    "#set up try\n",
    "try:\n",
    "          num1, num2= float(num1), float(num2)\n",
    "          if operation== \"add\":\n",
    "             result= num1+num2\n",
    "             print (\"{}+{}={}\".format(num1, num2, result))\n",
    "          \n",
    "          elif operation== \"subtract\":\n",
    "             result= num1-num2\n",
    "             print (\"{}-{}={}\".format(num1, num2, result))\n",
    "          \n",
    "          elif operation== \"multiply\":\n",
    "             result= num1*num2\n",
    "             print (\"{}*{}={}\".format(num1, num2, result))\n",
    "          \n",
    "          elif operation== \"divide\":\n",
    "             result= num1/num2\n",
    "             print (\"{}/{}={}\".format(num1, num2, result))\n",
    "          \n",
    "          else:\n",
    "            print(\"sorry, but'{}' is not an option\". format(operation))\n",
    "            \n",
    "except:\n",
    "    print(\"Error: improper numbers used. please try again\")"
   ]
  },
  {
   "cell_type": "code",
   "execution_count": null,
   "metadata": {},
   "outputs": [],
   "source": []
  }
 ],
 "metadata": {
  "kernelspec": {
   "display_name": "Python 3",
   "language": "python",
   "name": "python3"
  },
  "language_info": {
   "codemirror_mode": {
    "name": "ipython",
    "version": 3
   },
   "file_extension": ".py",
   "mimetype": "text/x-python",
   "name": "python",
   "nbconvert_exporter": "python",
   "pygments_lexer": "ipython3",
   "version": "3.8.3"
  }
 },
 "nbformat": 4,
 "nbformat_minor": 4
}
